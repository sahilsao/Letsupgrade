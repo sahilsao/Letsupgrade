{
 "cells": [
  {
   "cell_type": "markdown",
   "metadata": {},
   "source": [
    "# Tkinter app for demonstrating encryption and decryption of any plain text"
   ]
  },
  {
   "cell_type": "code",
   "execution_count": 2,
   "metadata": {},
   "outputs": [
    {
     "name": "stdout",
     "output_type": "stream",
     "text": [
      "Collecting onetimepad\n",
      "  Downloading onetimepad-1.4.tar.gz (3.3 kB)\n",
      "Building wheels for collected packages: onetimepad\n",
      "  Building wheel for onetimepad (setup.py): started\n",
      "  Building wheel for onetimepad (setup.py): finished with status 'done'\n",
      "  Created wheel for onetimepad: filename=onetimepad-1.4-py3-none-any.whl size=3899 sha256=88834f8144a3921538a80289ed642da42d8a7c46f78d4875a219a74b29b3a4c1\n",
      "  Stored in directory: c:\\users\\sahil\\appdata\\local\\pip\\cache\\wheels\\c4\\ee\\ef\\1e56a24474c33c9ba3d57be8aae23c91f5011c6475edd43dbe\n",
      "Successfully built onetimepad\n",
      "Installing collected packages: onetimepad\n",
      "Successfully installed onetimepad-1.4\n",
      "Note: you may need to restart the kernel to use updated packages.\n"
     ]
    },
    {
     "name": "stderr",
     "output_type": "stream",
     "text": [
      "WARNING: You are using pip version 20.2.4; however, version 20.3.3 is available.\n",
      "You should consider upgrading via the 'c:\\users\\sahil\\appdata\\local\\programs\\python\\python39\\python.exe -m pip install --upgrade pip' command.\n"
     ]
    }
   ],
   "source": [
    "pip install onetimepad"
   ]
  },
  {
   "cell_type": "code",
   "execution_count": 3,
   "metadata": {},
   "outputs": [],
   "source": [
    "# python module for one-timepad \n",
    "import onetimepad \n",
    "# python module to create GUI\t\t \n",
    "from tkinter import *\n",
    "\n",
    "\t\t\n",
    "root = Tk() \n",
    "root.title(\"CRYPTOGRAPHY\") \n",
    "root.geometry(\"800x600\") \n",
    "\n",
    "def encryptMessage():\t\t\t\t\t \n",
    "\tpt = e1.get() \n",
    "\n",
    "\t# inbuilt function to encrypt a message \n",
    "\tct = onetimepad.encrypt(pt, 'random') \n",
    "\te2.insert(0, ct) \n",
    "\n",
    "def decryptMessage():\t\t\t\t\t \n",
    "\tct1 = e3.get() \n",
    "\n",
    "\t# inbuilt function to decrypt a message \n",
    "\tpt1 = onetimepad.decrypt(ct1, 'random') \n",
    "\te4.insert(0, pt1) \n",
    "\t\n",
    "# creating labels and positioning them on the grid \n",
    "label1 = Label(root, text ='plain text')\t\t\t \n",
    "label1.grid(row = 10, column = 1) \n",
    "label2 = Label(root, text ='encrypted text') \n",
    "label2.grid(row = 11, column = 1) \n",
    "l3 = Label(root, text =\"cipher text\") \n",
    "l3.grid(row = 10, column = 10) \n",
    "l4 = Label(root, text =\"decrypted text\") \n",
    "l4.grid(row = 11, column = 10) \n",
    "\n",
    "# creating entries and positioning them on the grid \n",
    "e1 = Entry(root) \n",
    "e1.grid(row = 10, column = 2) \n",
    "e2 = Entry(root) \n",
    "e2.grid(row = 11, column = 2) \n",
    "e3 = Entry(root) \n",
    "e3.grid(row = 10, column = 11) \n",
    "e4 = Entry(root) \n",
    "e4.grid(row = 11, column = 11) \n",
    "\n",
    "# creating encryption button to produce the output \n",
    "ent = Button(root, text = \"encrypt\", bg =\"red\", fg =\"white\", command = encryptMessage) \n",
    "ent.grid(row = 13, column = 2) \n",
    "\n",
    "# creating decryption button to produce the output \n",
    "b2 = Button(root, text = \"decrypt\", bg =\"green\", fg =\"white\", command = decryptMessage) \n",
    "b2.grid(row = 13, column = 11) \n",
    "\n",
    "\n",
    "root.mainloop() \n"
   ]
  },
  {
   "cell_type": "code",
   "execution_count": null,
   "metadata": {},
   "outputs": [],
   "source": []
  }
 ],
 "metadata": {
  "kernelspec": {
   "display_name": "Python 3",
   "language": "python",
   "name": "python3"
  },
  "language_info": {
   "codemirror_mode": {
    "name": "ipython",
    "version": 3
   },
   "file_extension": ".py",
   "mimetype": "text/x-python",
   "name": "python",
   "nbconvert_exporter": "python",
   "pygments_lexer": "ipython3",
   "version": "3.9.0"
  }
 },
 "nbformat": 4,
 "nbformat_minor": 4
}
