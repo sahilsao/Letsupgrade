{
 "cells": [
  {
   "cell_type": "markdown",
   "metadata": {},
   "source": [
    "# Question 1"
   ]
  },
  {
   "cell_type": "markdown",
   "metadata": {},
   "source": [
    "### Do the project - Email sending using python and upload it in Github"
   ]
  },
  {
   "cell_type": "code",
   "execution_count": 10,
   "metadata": {},
   "outputs": [
    {
     "name": "stdout",
     "output_type": "stream",
     "text": [
      "Mail Sent Succesfully\n"
     ]
    },
    {
     "data": {
      "text/plain": [
       "(221, b'2.0.0 closing connection x28sm3257799pff.182 - gsmtp')"
      ]
     },
     "execution_count": 10,
     "metadata": {},
     "output_type": "execute_result"
    }
   ],
   "source": [
    "# Sending emails with attachments using Python  \n",
    "\n",
    "# libraries to be imported \n",
    "import smtplib \n",
    "from email.mime.multipart import MIMEMultipart \n",
    "from email.mime.text import MIMEText \n",
    "from email.mime.base import MIMEBase \n",
    "from email import encoders \n",
    "\n",
    "fromaddr = \"email_address_of_the_sender\"\n",
    "toaddr = \"email_address_of_the_receiver\"\n",
    "\n",
    "# MIMEMultipart \n",
    "msg = MIMEMultipart() \n",
    "\n",
    "# senders email address \n",
    "msg['From'] = fromaddr \n",
    "\n",
    "# receivers email address \n",
    "msg['To'] = toaddr \n",
    "\n",
    "# the subject of mail\n",
    "msg['Subject'] = \"subject_of_the_mail\"\n",
    "\n",
    "# the body of the mail \n",
    "body = \"body_of_the_mail\"\n",
    "\n",
    "# attaching the body with the msg \n",
    "msg.attach(MIMEText(body, 'plain')) \n",
    "\n",
    "# open the file to be sent\n",
    "# rb is a flag for readonly \n",
    "filename = \"file_name_with_extension\"\n",
    "attachment = open(\"Path of the file\", \"rb\") \n",
    "\n",
    "# MIMEBase\n",
    "attc= MIMEBase('application', 'octet-stream') \n",
    "\n",
    "# To change the payload into encoded form \n",
    "attc.set_payload((attachment).read()) \n",
    "\n",
    "# encode into base64 \n",
    "encoders.encode_base64(attc) \n",
    "\n",
    "attc.add_header('Content-Disposition', \"attachment; filename= %s\" % filename) \n",
    "\n",
    "# attach the instance 'p' to instance 'msg' \n",
    "msg.attach(attc) \n",
    "\n",
    "# creates SMTP session \n",
    "email = smtplib.SMTP('smtp.gmail.com', 587) \n",
    "\n",
    "# TLS for security \n",
    "email.starttls() \n",
    "\n",
    "# authentication \n",
    "email.login(fromaddr, \"Password_of_the_sender\") \n",
    "\n",
    "# Converts the Multipart msg into a string \n",
    "message = msg.as_string() \n",
    "\n",
    "# sending the mail \n",
    "email.sendmail(fromaddr, toaddr, message) \n",
    "\n",
    "# terminating the session \n",
    "email.quit() "
   ]
  },
  {
   "cell_type": "code",
   "execution_count": null,
   "metadata": {},
   "outputs": [],
   "source": []
  }
 ],
 "metadata": {
  "kernelspec": {
   "display_name": "Python 3",
   "language": "python",
   "name": "python3"
  },
  "language_info": {
   "codemirror_mode": {
    "name": "ipython",
    "version": 3
   },
   "file_extension": ".py",
   "mimetype": "text/x-python",
   "name": "python",
   "nbconvert_exporter": "python",
   "pygments_lexer": "ipython3",
   "version": "3.9.0"
  }
 },
 "nbformat": 4,
 "nbformat_minor": 4
}
