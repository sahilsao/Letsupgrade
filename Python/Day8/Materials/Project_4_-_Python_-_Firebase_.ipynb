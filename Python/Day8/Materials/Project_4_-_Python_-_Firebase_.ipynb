{
 "cells": [
  {
   "cell_type": "code",
   "execution_count": 2,
   "metadata": {},
   "outputs": [],
   "source": [
    "# Lets REad and Write to a real-time \n",
    "# Database server like Firebase "
   ]
  },
  {
   "cell_type": "raw",
   "metadata": {},
   "source": [
    "Every APP or Website requires 2 things in common - \n",
    "\n",
    "1. Authentication \n",
    "2. Database \n",
    "\n",
    "Zomato, Uber, Big Basket, JIO "
   ]
  },
  {
   "cell_type": "raw",
   "metadata": {},
   "source": [
    "If a developer wants to develop Database and \n",
    "Auth by them self, it take time ( Genrally 10,20 Days )"
   ]
  },
  {
   "cell_type": "raw",
   "metadata": {},
   "source": [
    "If we are a small scale company or a startup, we cnt afford that much time, Right ?\n",
    "\n",
    "So we want some Solution, which provides us Auth and DB instantly,  \n",
    "\n",
    "With efforts, so that system is Firebase "
   ]
  },
  {
   "cell_type": "code",
   "execution_count": 3,
   "metadata": {},
   "outputs": [
    {
     "name": "stdout",
     "output_type": "stream",
     "text": [
      "Collecting firebase\n",
      "  Downloading firebase-3.0.1-py3-none-any.whl (18 kB)\n",
      "Requirement already satisfied: requests in /opt/anaconda3/lib/python3.7/site-packages (from firebase) (2.22.0)\n",
      "Requirement already satisfied: certifi>=2017.4.17 in /opt/anaconda3/lib/python3.7/site-packages (from requests->firebase) (2019.9.11)\n",
      "Requirement already satisfied: chardet<3.1.0,>=3.0.2 in /opt/anaconda3/lib/python3.7/site-packages (from requests->firebase) (3.0.4)\n",
      "Requirement already satisfied: idna<2.9,>=2.5 in /opt/anaconda3/lib/python3.7/site-packages (from requests->firebase) (2.8)\n",
      "Requirement already satisfied: urllib3!=1.25.0,!=1.25.1,<1.26,>=1.21.1 in /opt/anaconda3/lib/python3.7/site-packages (from requests->firebase) (1.24.2)\n",
      "Installing collected packages: firebase\n",
      "Successfully installed firebase-3.0.1\n",
      "\u001b[33mWARNING: You are using pip version 20.0.2; however, version 20.3.1 is available.\n",
      "You should consider upgrading via the '/opt/anaconda3/bin/python -m pip install --upgrade pip' command.\u001b[0m\n"
     ]
    }
   ],
   "source": [
    "#Step 1\n",
    "!pip install firebase"
   ]
  },
  {
   "cell_type": "code",
   "execution_count": 4,
   "metadata": {},
   "outputs": [],
   "source": [
    "# Step 2 \n",
    "\n",
    "#Create a Project in Firebase from firebase import Firebase"
   ]
  },
  {
   "cell_type": "code",
   "execution_count": 6,
   "metadata": {},
   "outputs": [],
   "source": [
    "# Step 3 - Import Firebase\n",
    "\n",
    "\n",
    "import firebase_admin\n"
   ]
  },
  {
   "cell_type": "code",
   "execution_count": 7,
   "metadata": {},
   "outputs": [],
   "source": [
    "# Step 4 - \n",
    "\n",
    "from firebase_admin import credentials\n",
    "from firebase_admin import firestore"
   ]
  },
  {
   "cell_type": "code",
   "execution_count": 8,
   "metadata": {},
   "outputs": [],
   "source": [
    "# Step 5 - Download the cred key from the Firebase "
   ]
  },
  {
   "cell_type": "code",
   "execution_count": 9,
   "metadata": {},
   "outputs": [],
   "source": [
    "# Step 6- Place it in your Folder where the \n",
    "# Firebase project is happening "
   ]
  },
  {
   "cell_type": "code",
   "execution_count": 10,
   "metadata": {},
   "outputs": [
    {
     "data": {
      "text/plain": [
       "<firebase_admin.App at 0x7fec8a98c990>"
      ]
     },
     "execution_count": 10,
     "metadata": {},
     "output_type": "execute_result"
    }
   ],
   "source": [
    "cred = credentials.Certificate(\"python-demo-letsupgrade-firebase-adminsdk-uarq8-8b119e9481.json\")\n",
    "firebase_admin.initialize_app(cred)"
   ]
  },
  {
   "cell_type": "code",
   "execution_count": 11,
   "metadata": {},
   "outputs": [],
   "source": [
    "db = firestore.client()"
   ]
  },
  {
   "cell_type": "code",
   "execution_count": 12,
   "metadata": {},
   "outputs": [
    {
     "data": {
      "text/plain": [
       "update_time {\n",
       "  seconds: 1608303917\n",
       "  nanos: 991911000\n",
       "}"
      ]
     },
     "execution_count": 12,
     "metadata": {},
     "output_type": "execute_result"
    }
   ],
   "source": [
    "doc_ref = db.collection(u'users').document(u'abc')\n",
    "\n",
    "doc_ref.set({\n",
    "    u'first': u'Faiza',\n",
    "    u'last': u'Gokak',\n",
    "    u'born': 1997\n",
    "})"
   ]
  },
  {
   "cell_type": "code",
   "execution_count": 28,
   "metadata": {},
   "outputs": [],
   "source": [
    "# Step 7\n",
    "def enterDataInDB():\n",
    "    doc_ref = db.collection(u'LetsUpgradeUsers').document()\n",
    "    \n",
    "    name = input(\"Enter Name - \")\n",
    "    lastName = input(\"Enter Last Name - \")\n",
    "    age = int(input(\"Enter Age - \"))\n",
    "    \n",
    "    dit = {}\n",
    "    dit[\"firstName\"] = name\n",
    "    dit[\"lastName\"] = lastName\n",
    "    dit[\"age\"] = age\n",
    "    \n",
    "    doc_ref.set(dit)\n",
    "    "
   ]
  },
  {
   "cell_type": "code",
   "execution_count": 17,
   "metadata": {},
   "outputs": [],
   "source": [
    "enterDataInDB(\"sai\",\"lu\",90)"
   ]
  },
  {
   "cell_type": "code",
   "execution_count": 19,
   "metadata": {},
   "outputs": [],
   "source": [
    "enterDataInDB(\"Yogesh\",\"LU\",7829)"
   ]
  },
  {
   "cell_type": "code",
   "execution_count": 20,
   "metadata": {},
   "outputs": [],
   "source": [
    "enterDataInDB(\"Tejas\",\"LU\",17)"
   ]
  },
  {
   "cell_type": "code",
   "execution_count": 22,
   "metadata": {},
   "outputs": [],
   "source": [
    "enterDataInDB(\"Trith\",\"Shah\",17)"
   ]
  },
  {
   "cell_type": "code",
   "execution_count": 23,
   "metadata": {},
   "outputs": [],
   "source": [
    "enterDataInDB(\"kairav\",\"Singh LU\",17)"
   ]
  },
  {
   "cell_type": "code",
   "execution_count": 24,
   "metadata": {},
   "outputs": [],
   "source": [
    "enterDataInDB(\"Saikiran\",\"LetsUpgrade\",50)"
   ]
  },
  {
   "cell_type": "code",
   "execution_count": 25,
   "metadata": {},
   "outputs": [],
   "source": [
    "enterDataInDB(\"manglesh\",\"Kumar LU\",23)"
   ]
  },
  {
   "cell_type": "code",
   "execution_count": 29,
   "metadata": {},
   "outputs": [
    {
     "name": "stdout",
     "output_type": "stream",
     "text": [
      "Enter Name - Aavesh\n",
      "Enter Last Name - LetsUpgrade\n",
      "Enter Age - 26\n"
     ]
    }
   ],
   "source": [
    "enterDataInDB()"
   ]
  },
  {
   "cell_type": "code",
   "execution_count": 30,
   "metadata": {},
   "outputs": [],
   "source": [
    "# Step 8 - Read data from Firebase DB ( Firestore )\n",
    "\n"
   ]
  },
  {
   "cell_type": "code",
   "execution_count": 32,
   "metadata": {},
   "outputs": [
    {
     "name": "stdout",
     "output_type": "stream",
     "text": [
      "ID -  0rg4glbfc8l7cuTbl2MD\n",
      "First Name -  Saikiran\n",
      "Last Name -  LetsUpgrade\n",
      "Age -  50\n",
      "---------------\n",
      "---------------\n",
      "ID -  9FRKP9oEhSsH4iyIGLIa\n",
      "First Name -  kairav\n",
      "Last Name -  Singh LU\n",
      "Age -  17\n",
      "---------------\n",
      "---------------\n",
      "ID -  RlSXAJBWyoHE0GVvFPjj\n",
      "First Name -  Aavesh\n",
      "Last Name -  LetsUpgrade\n",
      "Age -  26\n",
      "---------------\n",
      "---------------\n",
      "ID -  bbr4TLEuXvRhqaMYAV5d\n",
      "First Name -  jaya\n",
      "Last Name -  raja\n",
      "Age -  190\n",
      "---------------\n",
      "---------------\n",
      "ID -  eFgNo9dTYu3LbZ3mRpOj\n",
      "First Name -  sai\n",
      "Last Name -  lu\n",
      "Age -  90\n",
      "---------------\n",
      "---------------\n",
      "ID -  ktz3ATXXnDJbEsfngJHK\n",
      "First Name -  Yogesh\n",
      "Last Name -  LU\n",
      "Age -  7829\n",
      "---------------\n",
      "---------------\n",
      "ID -  nBqerFUbAU5BiJ9X7HrL\n",
      "First Name -  Triti\n",
      "Last Name -  Shah\n",
      "Age -  17\n",
      "---------------\n",
      "---------------\n",
      "ID -  tGkD3rziua4dpZ4yobgs\n",
      "First Name -  Trith\n",
      "Last Name -  Shah\n",
      "Age -  17\n",
      "---------------\n",
      "---------------\n",
      "ID -  tQQd4Kt7UdGD6xuldAAN\n",
      "First Name -  Tejas\n",
      "Last Name -  LU\n",
      "Age -  17\n",
      "---------------\n",
      "---------------\n",
      "ID -  zslFTBzZl8BKFhSI4Yxw\n",
      "First Name -  manglesh\n",
      "Last Name -  Kumar LU\n",
      "Age -  23\n",
      "---------------\n",
      "---------------\n"
     ]
    }
   ],
   "source": [
    "docs = db.collection(u'LetsUpgradeUsers').stream()\n",
    "\n",
    "for doc in docs:\n",
    "#     print(f'{doc.id} => {doc.to_dict()}')\n",
    "    \n",
    "    print(\"ID - \", doc.id)\n",
    "    \n",
    "    print(\"First Name - \", doc.to_dict().get(\"firstName\"))\n",
    "    print(\"Last Name - \", doc.to_dict().get(\"lastName\"))\n",
    "    print(\"Age - \", doc.to_dict().get(\"age\") )\n",
    "    \n",
    "    print(\"---------------\")\n",
    "    print(\"---------------\")\n",
    "    "
   ]
  },
  {
   "cell_type": "code",
   "execution_count": 33,
   "metadata": {},
   "outputs": [],
   "source": [
    "# Step. 9 - Update a Entry -> \n",
    "\n",
    "def updateDatainFirebase(uid, updatedAge):\n",
    "    doc_ref = db.collection(u'LetsUpgradeUsers').document(uid)\n",
    "    \n",
    "    doc_ref.update({\"age\":updatedAge})"
   ]
  },
  {
   "cell_type": "code",
   "execution_count": 34,
   "metadata": {},
   "outputs": [],
   "source": [
    "updateDatainFirebase(\"zslFTBzZl8BKFhSI4Yxw\",26)"
   ]
  },
  {
   "cell_type": "code",
   "execution_count": 38,
   "metadata": {},
   "outputs": [],
   "source": [
    "updateDatainFirebase(\"tQQd4Kt7UdGD6xuldAAN\",17)"
   ]
  },
  {
   "cell_type": "code",
   "execution_count": 39,
   "metadata": {},
   "outputs": [],
   "source": [
    "# Step 10 - Delete Data from Firebase \n",
    "\n",
    "def deleteDataInFirebase(uid):\n",
    "    db.collection(u'LetsUpgradeUsers').document(uid).delete()\n"
   ]
  },
  {
   "cell_type": "code",
   "execution_count": 41,
   "metadata": {},
   "outputs": [],
   "source": [
    "deleteDataInFirebase(\"0rg4glbfc8l7cuTbl2MD\")"
   ]
  },
  {
   "cell_type": "code",
   "execution_count": 42,
   "metadata": {},
   "outputs": [],
   "source": [
    "deleteDataInFirebase(\"bbr4TLEuXvRhqaMYAV5d\")"
   ]
  },
  {
   "cell_type": "code",
   "execution_count": null,
   "metadata": {},
   "outputs": [],
   "source": []
  }
 ],
 "metadata": {
  "kernelspec": {
   "display_name": "Python 3",
   "language": "python",
   "name": "python3"
  },
  "language_info": {
   "codemirror_mode": {
    "name": "ipython",
    "version": 3
   },
   "file_extension": ".py",
   "mimetype": "text/x-python",
   "name": "python",
   "nbconvert_exporter": "python",
   "pygments_lexer": "ipython3",
   "version": "3.7.4"
  }
 },
 "nbformat": 4,
 "nbformat_minor": 2
}
