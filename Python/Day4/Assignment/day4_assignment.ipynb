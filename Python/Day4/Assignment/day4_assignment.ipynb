{
 "cells": [
  {
   "cell_type": "markdown",
   "metadata": {},
   "source": [
    "# Question 1\n",
    "Write down a program in Python for Opening a File and Writing \" I Love LetsUpgrade\" And close\n",
    "it, and read it back again, and then append some data to it and close it"
   ]
  },
  {
   "cell_type": "code",
   "execution_count": 11,
   "metadata": {},
   "outputs": [
    {
     "name": "stdout",
     "output_type": "stream",
     "text": [
      "File written\n"
     ]
    }
   ],
   "source": [
    "def main():\n",
    "    f= open(\"myfile.txt\",\"w+\")\n",
    "    #f=open(\"myfile.txt\",\"a+\")\n",
    "    for i in range(10):\n",
    "         f.write(\"This is line %d\\r\\n\" % (i+1))\n",
    "    f.close()\n",
    "    print(\"File written\")\n",
    "    #Open the file back and read the contents\n",
    "    #f=open(\"mytext.txt\", \"r\")\n",
    "    #if f.mode == 'r':\n",
    "    #   contents =f.read()\n",
    "    #    print (contents)\n",
    "    #or, readlines reads the individual line into a list\n",
    "    #fl =f.readlines()\n",
    "    #for x in fl:\n",
    "    #print(x)\n",
    "if __name__== \"__main__\":\n",
    "  main()"
   ]
  },
  {
   "cell_type": "markdown",
   "metadata": {},
   "source": [
    "# Question 2\n",
    "Write a function which can return a Factorial of any numbers as INT, given in the argument"
   ]
  },
  {
   "cell_type": "code",
   "execution_count": 12,
   "metadata": {},
   "outputs": [
    {
     "name": "stdout",
     "output_type": "stream",
     "text": [
      "Input a number to compute the factiorial : 5\n",
      "120\n"
     ]
    }
   ],
   "source": [
    "def factorial(n):\n",
    "    if n == 0:\n",
    "        return 1\n",
    "    else:\n",
    "        return n * factorial(n-1)\n",
    "n=int(input(\"Input a number to compute the factiorial : \"))\n",
    "print(factorial(n))"
   ]
  },
  {
   "cell_type": "code",
   "execution_count": null,
   "metadata": {},
   "outputs": [],
   "source": []
  }
 ],
 "metadata": {
  "kernelspec": {
   "display_name": "Python 3",
   "language": "python",
   "name": "python3"
  },
  "language_info": {
   "codemirror_mode": {
    "name": "ipython",
    "version": 3
   },
   "file_extension": ".py",
   "mimetype": "text/x-python",
   "name": "python",
   "nbconvert_exporter": "python",
   "pygments_lexer": "ipython3",
   "version": "3.9.0"
  }
 },
 "nbformat": 4,
 "nbformat_minor": 4
}
