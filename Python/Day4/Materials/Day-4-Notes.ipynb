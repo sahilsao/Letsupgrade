{
 "cells": [
  {
   "cell_type": "markdown",
   "metadata": {},
   "source": [
    "# File Handling in python \n",
    "\n",
    "# Functions in Python \n",
    "\n",
    "# Modules in Python "
   ]
  },
  {
   "cell_type": "code",
   "execution_count": null,
   "metadata": {},
   "outputs": [],
   "source": []
  },
  {
   "cell_type": "code",
   "execution_count": null,
   "metadata": {},
   "outputs": [],
   "source": []
  },
  {
   "cell_type": "code",
   "execution_count": 1,
   "metadata": {},
   "outputs": [],
   "source": [
    "# Files handling is \" TO Open, Close and Append in the file we use File Handlig \""
   ]
  },
  {
   "cell_type": "code",
   "execution_count": 2,
   "metadata": {},
   "outputs": [],
   "source": [
    "# Create A File \n",
    "\n",
    "abc = open(\"HeyWorld.txt\",'w')\n",
    "\n",
    "abc.write(\"Hey Guys this is our first File\")\n",
    "\n",
    "abc.close()"
   ]
  },
  {
   "cell_type": "code",
   "execution_count": 3,
   "metadata": {},
   "outputs": [],
   "source": [
    "abc = open(\"HeyWorld.txt\",'r')\n",
    "\n",
    "content = abc.read()\n",
    "\n",
    "abc.close()"
   ]
  },
  {
   "cell_type": "code",
   "execution_count": 4,
   "metadata": {},
   "outputs": [
    {
     "data": {
      "text/plain": [
       "'Hey Guys this is our first File'"
      ]
     },
     "execution_count": 4,
     "metadata": {},
     "output_type": "execute_result"
    }
   ],
   "source": [
    "content"
   ]
  },
  {
   "cell_type": "code",
   "execution_count": 5,
   "metadata": {},
   "outputs": [],
   "source": [
    "# WHAT ARE THE MODES ?\n",
    "\n",
    "# 'r', 'w', 'w+', 'a', 'a+', 'r+'"
   ]
  },
  {
   "cell_type": "code",
   "execution_count": 6,
   "metadata": {},
   "outputs": [],
   "source": [
    "# R is used for reading only \n",
    "\n",
    "# w is used for writig only \n",
    "\n",
    "# a is used for appending or adding something to the file \n",
    "\n",
    "# r+ is used for writeing and reading together \n"
   ]
  },
  {
   "cell_type": "code",
   "execution_count": 7,
   "metadata": {},
   "outputs": [],
   "source": [
    "xyz = open(\"HEY.txt\",'w')\n",
    "\n",
    "xyz.write(\"HEY 289 people can we make it 3000 ?\")\n",
    "\n",
    "xyz.close()"
   ]
  },
  {
   "cell_type": "code",
   "execution_count": 9,
   "metadata": {},
   "outputs": [],
   "source": [
    "xyz = open(\"HEY.txt\",'a')\n",
    "\n",
    "xyz.write(\" U are amazing students\")\n",
    "\n",
    "xyz.close()"
   ]
  },
  {
   "cell_type": "code",
   "execution_count": 11,
   "metadata": {},
   "outputs": [
    {
     "name": "stdout",
     "output_type": "stream",
     "text": [
      "HEY 289 people can we make it 3000 ? U are amazing students U are amazing students\n"
     ]
    }
   ],
   "source": [
    "xyz = open(\"HEY.txt\",'r+')\n",
    "\n",
    "print(xyz.read())\n",
    "\n",
    "xyz.write(\" We have Updated this !!\")\n",
    "\n",
    "xyz.close()"
   ]
  },
  {
   "cell_type": "markdown",
   "metadata": {},
   "source": [
    "# Functions "
   ]
  },
  {
   "cell_type": "code",
   "execution_count": 12,
   "metadata": {},
   "outputs": [],
   "source": [
    "# Fuctions ? -> \n",
    "\n",
    "def func():\n",
    "    print(\"Hey Guys\")\n",
    "    print(\"How are u ?\")\n",
    "    print(\"From which location you are ?\")\n",
    "    print(\"Regards, LetsUpgrade\")"
   ]
  },
  {
   "cell_type": "code",
   "execution_count": 13,
   "metadata": {},
   "outputs": [
    {
     "name": "stdout",
     "output_type": "stream",
     "text": [
      "Hey Guys\n",
      "How are u ?\n",
      "From which location you are ?\n",
      "Regards, LetsUpgrade\n"
     ]
    }
   ],
   "source": [
    "func()"
   ]
  },
  {
   "cell_type": "code",
   "execution_count": 14,
   "metadata": {},
   "outputs": [
    {
     "name": "stdout",
     "output_type": "stream",
     "text": [
      "Hey Guys\n",
      "How are u ?\n",
      "From which location you are ?\n",
      "Regards, LetsUpgrade\n"
     ]
    }
   ],
   "source": [
    "func()"
   ]
  },
  {
   "cell_type": "code",
   "execution_count": 15,
   "metadata": {},
   "outputs": [
    {
     "name": "stdout",
     "output_type": "stream",
     "text": [
      "Hey Guys\n",
      "How are u ?\n",
      "From which location you are ?\n",
      "Regards, LetsUpgrade\n"
     ]
    }
   ],
   "source": [
    "func()"
   ]
  },
  {
   "cell_type": "code",
   "execution_count": 16,
   "metadata": {},
   "outputs": [
    {
     "name": "stdout",
     "output_type": "stream",
     "text": [
      "Hey Guys\n",
      "How are u ?\n",
      "From which location you are ?\n",
      "Regards, LetsUpgrade\n"
     ]
    }
   ],
   "source": [
    "func()"
   ]
  },
  {
   "cell_type": "code",
   "execution_count": 17,
   "metadata": {},
   "outputs": [
    {
     "name": "stdout",
     "output_type": "stream",
     "text": [
      "Hey Guys\n",
      "How are u ?\n",
      "From which location you are ?\n",
      "Regards, LetsUpgrade\n"
     ]
    }
   ],
   "source": [
    "func()"
   ]
  },
  {
   "cell_type": "code",
   "execution_count": 18,
   "metadata": {},
   "outputs": [
    {
     "name": "stdout",
     "output_type": "stream",
     "text": [
      "Hey Guys\n",
      "How are u ?\n",
      "From which location you are ?\n",
      "Regards, LetsUpgrade\n"
     ]
    }
   ],
   "source": [
    "func()"
   ]
  },
  {
   "cell_type": "code",
   "execution_count": 22,
   "metadata": {},
   "outputs": [],
   "source": [
    "def func1(name,comment):\n",
    "    print(\"Hey \",name)\n",
    "    print(\"How are u ?\")\n",
    "    print(\"From which location you are ?\")\n",
    "    print(\"Regards, LetsUpgrade\")\n",
    "    print(\"comment - \",comment)"
   ]
  },
  {
   "cell_type": "code",
   "execution_count": 20,
   "metadata": {},
   "outputs": [
    {
     "name": "stdout",
     "output_type": "stream",
     "text": [
      "Hey  Nishkala\n",
      "How are u ?\n",
      "From which location you are ?\n",
      "Regards, LetsUpgrade\n"
     ]
    }
   ],
   "source": [
    "func1(\"Nishkala\")"
   ]
  },
  {
   "cell_type": "code",
   "execution_count": 21,
   "metadata": {},
   "outputs": [
    {
     "name": "stdout",
     "output_type": "stream",
     "text": [
      "Hey  Manju, Amazing Job\n",
      "How are u ?\n",
      "From which location you are ?\n",
      "Regards, LetsUpgrade\n"
     ]
    }
   ],
   "source": [
    "func1(\"Manju, Amazing Job\")"
   ]
  },
  {
   "cell_type": "code",
   "execution_count": 23,
   "metadata": {
    "scrolled": true
   },
   "outputs": [
    {
     "name": "stdout",
     "output_type": "stream",
     "text": [
      "Hey  Love Ask,Sujeet\n",
      "How are u ?\n",
      "From which location you are ?\n",
      "Regards, LetsUpgrade\n",
      "comment -   Good Work\n"
     ]
    }
   ],
   "source": [
    "func1(\"Love Ask,Sujeet\", \" Good Work\")"
   ]
  },
  {
   "cell_type": "code",
   "execution_count": 25,
   "metadata": {},
   "outputs": [],
   "source": [
    "def calculator(a,b,ops):\n",
    "    if ops == '+':\n",
    "        return a+b\n",
    "    elif ops == '-':\n",
    "        return a - b \n",
    "    elif ops == '*':\n",
    "        return a * b\n",
    "    elif ops == \"/\":\n",
    "        return a/b\n",
    "    else:\n",
    "        return \"please give a valid input in ops\""
   ]
  },
  {
   "cell_type": "code",
   "execution_count": 26,
   "metadata": {},
   "outputs": [],
   "source": [
    "result = calculator(1,1,\"+\")"
   ]
  },
  {
   "cell_type": "code",
   "execution_count": 28,
   "metadata": {},
   "outputs": [
    {
     "name": "stdout",
     "output_type": "stream",
     "text": [
      "2\n"
     ]
    }
   ],
   "source": [
    "print(result)"
   ]
  },
  {
   "cell_type": "code",
   "execution_count": 29,
   "metadata": {},
   "outputs": [],
   "source": [
    "result = calculator(3,2,'-')"
   ]
  },
  {
   "cell_type": "code",
   "execution_count": 30,
   "metadata": {},
   "outputs": [
    {
     "name": "stdout",
     "output_type": "stream",
     "text": [
      "1\n"
     ]
    }
   ],
   "source": [
    "print(result)"
   ]
  },
  {
   "cell_type": "code",
   "execution_count": 43,
   "metadata": {},
   "outputs": [],
   "source": [
    "# Global Variables and Local Variable \n",
    "\n",
    "name = \"LetsUpgrade\"\n",
    "\n",
    "def fun():\n",
    "#     name = \"Rishit\"\n",
    "#     print(name)\n",
    "    global name\n",
    "    name = \"HI\"\n",
    "    print(name)"
   ]
  },
  {
   "cell_type": "code",
   "execution_count": 44,
   "metadata": {},
   "outputs": [
    {
     "name": "stdout",
     "output_type": "stream",
     "text": [
      "HI\n"
     ]
    }
   ],
   "source": [
    "fun()"
   ]
  },
  {
   "cell_type": "code",
   "execution_count": 45,
   "metadata": {},
   "outputs": [
    {
     "data": {
      "text/plain": [
       "'HI'"
      ]
     },
     "execution_count": 45,
     "metadata": {},
     "output_type": "execute_result"
    }
   ],
   "source": [
    "name"
   ]
  },
  {
   "cell_type": "code",
   "execution_count": 47,
   "metadata": {},
   "outputs": [],
   "source": [
    "name = \"LetsUpgrade\"\n",
    "\n",
    "def fuc():\n",
    "    name = \n",
    "    print(name)"
   ]
  },
  {
   "cell_type": "code",
   "execution_count": 49,
   "metadata": {},
   "outputs": [
    {
     "name": "stdout",
     "output_type": "stream",
     "text": [
      "HI\n"
     ]
    }
   ],
   "source": [
    "fun()"
   ]
  },
  {
   "cell_type": "code",
   "execution_count": 57,
   "metadata": {},
   "outputs": [],
   "source": [
    "name1 = \"LetsUpgrade\"\n",
    "\n",
    "def fuc1():\n",
    "    global name1 \n",
    "    name1 = 'sai'\n",
    "    print(name1)"
   ]
  },
  {
   "cell_type": "code",
   "execution_count": 58,
   "metadata": {},
   "outputs": [
    {
     "name": "stdout",
     "output_type": "stream",
     "text": [
      "sai\n"
     ]
    }
   ],
   "source": [
    "fuc1()"
   ]
  },
  {
   "cell_type": "code",
   "execution_count": 59,
   "metadata": {},
   "outputs": [
    {
     "data": {
      "text/plain": [
       "'sai'"
      ]
     },
     "execution_count": 59,
     "metadata": {},
     "output_type": "execute_result"
    }
   ],
   "source": [
    "name1"
   ]
  },
  {
   "cell_type": "markdown",
   "metadata": {},
   "source": [
    "1. you are Rahul in class 10, \n",
    "\n",
    "2. Your teacher calls Rahul, which rahul will come, \"The Rahul which is inside the classroom will come\" ( Local Varibale ) \n",
    "\n",
    "3. Your class dosent have any rahul, and your teacher calls rahul, who will come, the person whos name is rahul in the whole school will come \n",
    "( Global Varibale ) \n",
    "\n",
    "4. Your class has a rahul but your teacher is calling Rahul from the class 8th, specificly, to beat him, which rahul will come. -> Class 8th rahul will come ( global KeyWord)\n"
   ]
  },
  {
   "cell_type": "markdown",
   "metadata": {},
   "source": [
    "# Modules"
   ]
  },
  {
   "cell_type": "code",
   "execution_count": null,
   "metadata": {},
   "outputs": [],
   "source": [
    "# Libraries \n",
    "\n",
    "\n",
    "# "
   ]
  }
 ],
 "metadata": {
  "kernelspec": {
   "display_name": "Python 3",
   "language": "python",
   "name": "python3"
  },
  "language_info": {
   "codemirror_mode": {
    "name": "ipython",
    "version": 3
   },
   "file_extension": ".py",
   "mimetype": "text/x-python",
   "name": "python",
   "nbconvert_exporter": "python",
   "pygments_lexer": "ipython3",
   "version": "3.7.4"
  }
 },
 "nbformat": 4,
 "nbformat_minor": 2
}
